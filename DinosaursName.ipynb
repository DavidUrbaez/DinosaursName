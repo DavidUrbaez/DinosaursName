{
  "nbformat": 4,
  "nbformat_minor": 0,
  "metadata": {
    "colab": {
      "name": "DinosaursName.ipynb",
      "provenance": [],
      "collapsed_sections": [],
      "include_colab_link": true
    },
    "kernelspec": {
      "display_name": "Python 3",
      "name": "python3"
    },
    "language_info": {
      "name": "python"
    }
  },
  "cells": [
    {
      "cell_type": "markdown",
      "metadata": {
        "id": "view-in-github",
        "colab_type": "text"
      },
      "source": [
        "<a href=\"https://colab.research.google.com/github/DavidUrbaez/DinosaursName/blob/main/DinosaursName.ipynb\" target=\"_parent\"><img src=\"https://colab.research.google.com/assets/colab-badge.svg\" alt=\"Open In Colab\"/></a>"
      ]
    },
    {
      "cell_type": "code",
      "metadata": {
        "colab": {
          "base_uri": "https://localhost:8080/"
        },
        "id": "PMU2-6nZFl2y",
        "outputId": "7c2195da-d4c4-4595-f84e-8a6313617a6f"
      },
      "source": [
        "## Clone Git Repo to get files\n",
        "\n",
        "import os\n",
        "\n",
        "os.chdir('/content')\n",
        "!git clone https://github.com/DavidUrbaez/DinosaursName.git\n",
        "\n",
        "\n",
        "os.chdir('/content/DinosaursName')\n",
        "!pwd"
      ],
      "execution_count": null,
      "outputs": [
        {
          "output_type": "stream",
          "text": [
            "Cloning into 'DinosaursName'...\n",
            "remote: Enumerating objects: 15, done.\u001b[K\n",
            "remote: Counting objects: 100% (15/15), done.\u001b[K\n",
            "remote: Compressing objects: 100% (13/13), done.\u001b[K\n",
            "remote: Total 15 (delta 1), reused 0 (delta 0), pack-reused 0\u001b[K\n",
            "Unpacking objects: 100% (15/15), done.\n",
            "/content/DinosaursName\n"
          ],
          "name": "stdout"
        }
      ]
    },
    {
      "cell_type": "code",
      "metadata": {
        "colab": {
          "base_uri": "https://localhost:8080/",
          "height": 120
        },
        "id": "Xy7EuD46dZ3r",
        "outputId": "5218efeb-2236-42ee-bae2-631c61784d2d"
      },
      "source": [
        "from utils import *\n",
        "import urllib.request\n",
        "url = \"https://raw.githubusercontent.com/DavidUrbaez/DinosaursName/main/dinos.txt\"\n",
        "data= urllib.request.urlopen(url).read().decode('utf-8')\n",
        "data=data.lower().replace('\\r','')\n",
        "data\n"
      ],
      "execution_count": null,
      "outputs": [
        {
          "output_type": "execute_result",
          "data": {
            "application/vnd.google.colaboratory.intrinsic+json": {
              "type": "string"
            },
            "text/plain": [
              "'aachenosaurus\\naardonyx\\nabdallahsaurus\\nabelisaurus\\nabrictosaurus\\nabrosaurus\\nabydosaurus\\nacanthopholis\\nachelousaurus\\nacheroraptor\\nachillesaurus\\nachillobator\\nacristavus\\nacrocanthosaurus\\nacrotholus\\nactiosaurus\\nadamantisaurus\\nadasaurus\\nadelolophus\\nadeopapposaurus\\naegyptosaurus\\naeolosaurus\\naepisaurus\\naepyornithomimus\\naerosteon\\naetonyxafromimus\\nafrovenator\\nagathaumas\\naggiosaurus\\nagilisaurus\\nagnosphitys\\nagrosaurus\\nagujaceratops\\nagustinia\\nahshislepelta\\nairakoraptor\\najancingenia\\najkaceratops\\nalamosaurus\\nalaskacephale\\nalbalophosaurus\\nalbertaceratops\\nalbertadromeus\\nalbertavenator\\nalbertonykus\\nalbertosaurus\\nalbinykus\\nalbisaurus\\nalcovasaurus\\nalectrosaurus\\naletopelta\\nalgoasaurus\\nalioramus\\naliwalia\\nallosaurus\\nalmas\\nalnashetri\\nalocodon\\naltirhinus\\naltispinax\\nalvarezsaurus\\nalwalkeria\\nalxasaurus\\namargasaurus\\namargastegos\\namargatitanis\\namazonsaurus\\nammosaurus\\nampelosaurus\\namphicoelias\\namphicoelicaudia\\namphisaurus\\namtocephale\\namtosaurus\\namurosaurus\\namygdalodon\\nanabisetia\\nanasazisaurus\\nanatosaurus\\nanatotitan\\nanchiceratops\\nanchiornis\\nanchisaurus\\nandesaurus\\nandhrasaurus\\nangaturama\\nangloposeidon\\nangolatitan\\nangulomastacator\\naniksosaurus\\nanimantarx\\nankistrodon\\nankylosaurus\\nanodontosaurus\\nanoplosaurus\\nanserimimus\\nantarctopelta\\nantarctosaurus\\nantetonitrus\\nanthodon\\nantrodemus\\nanzu\\naoniraptor\\naorun\\napatodon\\napatoraptor\\napatosaurus\\nappalachiosaurus\\naquilops\\naragosaurus\\naralosaurus\\naraucanoraptor\\narchaeoceratops\\narchaeodontosaurus\\narchaeopteryx\\narchaeoraptor\\narchaeornis\\narchaeornithoides\\narchaeornithomimus\\narcovenator\\narctosaurus\\narcusaurus\\narenysaurus\\nargentinosaurus\\nargyrosaurus\\naristosaurus\\naristosuchus\\narizonasaurus\\narkansaurus\\narkharavia\\narrhinoceratops\\narstanosaurus\\nasiaceratops\\nasiamericana\\nasiatosaurus\\nastrodon\\nastrodonius\\nastrodontaurus\\nastrophocaudia\\nasylosaurus\\natacamatitan\\natlantosaurus\\natlasaurus\\natlascopcosaurus\\natrociraptor\\natsinganosaurus\\naublysodon\\naucasaurus\\naugustia\\naugustynolophus\\nauroraceratops\\naurornis\\naustralodocus\\naustralovenator\\naustrocheirus\\naustroposeidon\\naustroraptor\\naustrosaurus\\navaceratops\\navalonia\\navalonianus\\naviatyrannis\\navimimus\\navisaurus\\navipes\\nazendohsaurus\\nbactrosaurus\\nbagaceratops\\nbagaraatan\\nbahariasaurus\\nbainoceratops\\nbakesaurus\\nbalaur\\nbalochisaurus\\nbambiraptor\\nbanji\\nbaotianmansaurus\\nbarapasaurus\\nbarilium\\nbarosaurus\\nbarrosasaurus\\nbarsboldia\\nbaryonyx\\nbashunosaurus\\nbasutodon\\nbathygnathus\\nbatyrosaurus\\nbaurutitan\\nbayosaurus\\nbecklespinax\\nbeelemodon\\nbeibeilong\\nbeipiaognathus\\nbeipiaosaurus\\nbeishanlong\\nbellusaurus\\nbelodon\\nberberosaurus\\nbetasuchus\\nbicentenaria\\nbienosaurus\\nbihariosaurus\\nbilbeyhallorum\\nbissektipelta\\nbistahieversor\\nblancocerosaurus\\nblasisaurus\\nblikanasaurus\\nbolong\\nbonapartenykus\\nbonapartesaurus\\nbonatitan\\nbonitasaura\\nborealopelta\\nborealosaurus\\nboreonykus\\nborogovia\\nbothriospondylus\\nbrachiosaurus\\nbrachyceratops\\nbrachylophosaurus\\nbrachypodosaurus\\nbrachyrophus\\nbrachytaenius\\nbrachytrachelopan\\nbradycneme\\nbrasileosaurus\\nbrasilotitan\\nbravoceratops\\nbreviceratops\\nbrohisaurus\\nbrontomerus\\nbrontoraptor\\nbrontosaurus\\nbruhathkayosaurus\\nbugenasaura\\nbuitreraptor\\nburianosaurus\\nburiolestes\\nbyranjaffia\\nbyronosaurus\\ncaenagnathasia\\ncaenagnathus\\ncalamosaurus\\ncalamospondylus\\ncalamospondylus\\ncallovosaurus\\ncamarasaurus\\ncamarillasaurus\\ncamelotia\\ncamposaurus\\ncamptonotus\\ncamptosaurus\\ncampylodon\\ncampylodoniscus\\ncanardia\\ncapitalsaurus\\ncarcharodontosaurus\\ncardiodon\\ncarnotaurus\\ncaseosaurus\\ncathartesaura\\ncathetosaurus\\ncaudipteryx\\ncaudocoelus\\ncaulodon\\ncedarosaurus\\ncedarpelta\\ncedrorestes\\ncentemodon\\ncentrosaurus\\ncerasinops\\nceratonykus\\nceratops\\nceratosaurus\\ncetiosauriscus\\ncetiosaurus\\nchangchunsaurus\\nchangdusaurus\\nchangyuraptor\\nchaoyangsaurus\\ncharonosaurus\\nchasmosaurus\\nchassternbergia\\nchebsaurus\\nchenanisaurus\\ncheneosaurus\\nchialingosaurus\\nchiayusaurus\\nchienkosaurus\\nchihuahuasaurus\\nchilantaisaurus\\nchilesaurus\\nchindesaurus\\nchingkankousaurus\\nchinshakiangosaurus\\nchirostenotes\\nchoconsaurus\\nchondrosteosaurus\\nchromogisaurus\\nchuandongocoelurus\\nchuanjiesaurus\\nchuanqilong\\nchubutisaurus\\nchungkingosaurus\\nchuxiongosaurus\\ncinizasaurus\\ncionodon\\ncitipati\\ncladeiodon\\nclaorhynchus\\nclaosaurus\\nclarencea\\nclasmodosaurus\\nclepsysaurus\\ncoahuilaceratops\\ncoelophysis\\ncoelosaurus\\ncoeluroides\\ncoelurosauravus\\ncoelurus\\ncolepiocephale\\ncoloradia\\ncoloradisaurus\\ncolossosaurus\\ncomahuesaurus\\ncomanchesaurus\\ncompsognathus\\ncompsosuchus\\nconcavenator\\nconchoraptor\\ncondorraptor\\ncoronosaurus\\ncorythoraptor\\ncorythosaurus\\ncraspedodon\\ncrataeomus\\ncraterosaurus\\ncreosaurus\\ncrichtonpelta\\ncrichtonsaurus\\ncristatusaurus\\ncrosbysaurus\\ncruxicheiros\\ncryolophosaurus\\ncryptodraco\\ncryptoraptor\\ncryptosaurus\\ncryptovolans\\ncumnoria\\ndaanosaurus\\ndacentrurus\\ndachongosaurus\\ndaemonosaurus\\ndahalokely\\ndakosaurus\\ndakotadon\\ndakotaraptor\\ndaliansaurus\\ndamalasaurus\\ndandakosaurus\\ndanubiosaurus\\ndaptosaurus\\ndarwinsaurus\\ndashanpusaurus\\ndaspletosaurus\\ndasygnathoides\\ndasygnathus\\ndatanglong\\ndatonglong\\ndatousaurus\\ndaurosaurus\\ndaxiatitan\\ndeinocheirus\\ndeinodon\\ndeinonychus\\ndelapparentia\\ndeltadromeus\\ndemandasaurus\\ndenversaurus\\ndeuterosaurus\\ndiabloceratops\\ndiamantinasaurus\\ndianchungosaurus\\ndiceratops\\ndiceratusdiclonius\\ndicraeosaurus\\ndidanodondilong\\ndilophosaurus\\ndiluvicursor\\ndimodosaurus\\ndinheirosaurus\\ndinodocus\\ndinotyrannus\\ndiplodocus\\ndiplotomodon\\ndiracodon\\ndolichosuchus\\ndollodon\\ndomeykosaurus\\ndongbeititan\\ndongyangopelta\\ndongyangosaurus\\ndoratodon\\ndoryphorosaurus\\ndraconyx\\ndracopelta\\ndracoraptor\\ndracorex\\ndracovenator\\ndravidosaurus\\ndreadnoughtus\\ndrinker\\ndromaeosauroides\\ndromaeosaurus\\ndromiceiomimus\\ndromicosaurus\\ndrusilasaura\\ndryosaurus\\ndryptosauroides\\ndryptosaurus\\ndubreuillosaurus\\nduriatitan\\nduriavenator\\ndynamosaurus\\ndyoplosaurus\\ndysalotosaurus\\ndysganus\\ndyslocosaurus\\ndystrophaeus\\ndystylosaurus\\nechinodon\\nedmarka\\nedmontonia\\nedmontosaurus\\nefraasia\\neiniosaurus\\nekrixinatosaurus\\nelachistosuchus\\nelaltitan\\nelaphrosaurus\\nelmisaurus\\nelopteryx\\nelosaurus\\nelrhazosaurus\\nelvisaurus\\nemausaurus\\nembasaurus\\nenigmosaurus\\neoabelisaurus\\neobrontosaurus\\neocarcharia\\neoceratops\\neocursor\\neodromaeus\\neohadrosaurus\\neolambia\\neomamenchisaurus\\neoplophysis\\neoraptor\\neosinopteryx\\neotrachodon\\neotriceratops\\neotyrannus\\neousdryosaurus\\nepachthosaurus\\nepanterias\\nephoenosaurus\\nepicampodon\\nepichirostenotes\\nepidendrosaurus\\nepidexipteryx\\nequijubus\\nerectopus\\nerketu\\nerliansaurus\\nerlikosaurus\\neshanosaurus\\neuacanthus\\neucamerotus\\neucentrosaurus\\neucercosaurus\\neucnemesaurus\\neucoelophysis\\neugongbusaurus\\neuhelopus\\neuoplocephalus\\neupodosaurus\\neureodon\\neurolimnornis\\neuronychodon\\neuropasaurus\\neuropatitan\\neuropelta\\neuskelosaurus\\neustreptospondylus\\nfabrosaurus\\nfalcarius\\nfendusaurus\\nfenestrosaurus\\nferganasaurus\\nferganastegos\\nferganocephale\\nforaminacephale\\nfosterovenator\\nfrenguellisaurus\\nfruitadens\\nfukuiraptor\\nfukuisaurus\\nfukuititan\\nfukuivenator\\nfulengia\\nfulgurotherium\\nfusinasus\\nfusuisaurus\\nfutabasaurus\\nfutalognkosaurus\\ngadolosaurus\\ngaleamopus\\ngalesaurus\\ngallimimus\\ngaltonia\\ngalveosaurus\\ngalvesaurus\\ngannansaurus\\ngansutitan\\nganzhousaurus\\ngargoyleosaurus\\ngarudimimus\\ngasosaurus\\ngasparinisaura\\ngastonia\\ngavinosaurus\\ngeminiraptor\\ngenusaurus\\ngenyodectes\\ngeranosaurus\\ngideonmantellia\\ngiganotosaurus\\ngigantoraptor\\ngigantosaurus\\ngigantosaurus\\ngigantoscelus\\ngigantspinosaurus\\ngilmoreosaurus\\nginnareemimus\\ngiraffatitan\\nglacialisaurus\\nglishades\\nglyptodontopelta\\nskeleton\\ngobiceratops\\ngobisaurus\\ngobititan\\ngobivenator\\ngodzillasaurus\\ngojirasaurus\\ngondwanatitan\\ngongbusaurus\\ngongpoquansaurus\\ngongxianosaurus\\ngorgosaurus\\ngoyocephale\\ngraciliceratops\\ngraciliraptor\\ngracilisuchus\\ngravitholus\\ngresslyosaurus\\ngriphornis\\ngriphosaurus\\ngryphoceratops\\ngryponyx\\ngryposaurus\\ngspsaurus\\nguaibasaurus\\ngualicho\\nguanlong\\ngwyneddosaurus\\ngyposaurus\\nhadrosauravus\\nhadrosaurus\\nhaestasaurus\\nhagryphus\\nhallopus\\nhalszkaraptor\\nhalticosaurus\\nhanssuesia\\nhanwulosaurus\\nhaplocanthosaurus\\nhaplocanthus\\nhaplocheirus\\nharpymimus\\nhaya\\nhecatasaurus\\nheilongjiangosaurus\\nheishansaurus\\nhelioceratops\\nhelopus\\nheptasteornis\\nherbstosaurus\\nherrerasaurus\\nhesperonychus\\nhesperosaurus\\nheterodontosaurus\\nheterosaurus\\nhexing\\nhexinlusaurus\\nheyuannia\\nhierosaurus\\nhippodraco\\nhironosaurus\\nhisanohamasaurus\\nhistriasaurus\\nhomalocephale\\nhonghesaurus\\nhongshanosaurus\\nhoplitosaurus\\nhoplosaurus\\nhorshamosaurus\\nhortalotarsus\\nhuabeisaurus\\nhualianceratops\\nhuanansaurus\\nhuanghetitan\\nhuangshanlong\\nhuaxiagnathus\\nhuaxiaosaurus\\nhuaxiasaurus\\nhuayangosaurus\\nhudiesaurus\\nhuehuecanauhtlus\\nhulsanpes\\nhungarosaurus\\nhuxleysaurus\\nhylaeosaurus\\nhylosaurushypacrosaurus\\nhypselorhachis\\nhypselosaurus\\nhypselospinus\\nhypsibema\\nhypsilophodon\\nhypsirhophus\\nhabodcraniosaurus\\nichthyovenator\\nignavusaurus\\niguanacolossus\\niguanodon\\niguanoides\\nskeleton\\niguanosaurus\\niliosuchus\\nilokelesia\\nincisivosaurus\\nindosaurus\\nindosuchus\\ningenia\\ninosaurus\\nirritator\\nisaberrysaura\\nisanosaurus\\nischioceratops\\nischisaurus\\nischyrosaurus\\nisisaurus\\nissasaurus\\nitemirus\\niuticosaurus\\njainosaurus\\njaklapallisaurus\\njanenschia\\njaxartosaurus\\njeholosaurus\\njenghizkhan\\njensenosaurus\\njeyawati\\njianchangosaurus\\njiangjunmiaosaurus\\njiangjunosaurus\\njiangshanosaurus\\njiangxisaurus\\njianianhualong\\njinfengopteryx\\njingshanosaurus\\njintasaurus\\njinzhousaurus\\njiutaisaurus\\njobaria\\njubbulpuria\\njudiceratops\\njurapteryx\\njurassosaurus\\njuratyrant\\njuravenator\\nkagasaurus\\nkaijiangosaurus\\nkakuru\\nkangnasaurus\\nkarongasaurus\\nkatepensaurus\\nkatsuyamasaurus\\nkayentavenator\\nkazaklambia\\nkelmayisaurus\\nkemkemiakentrosaurus\\nkentrurosaurus\\nkerberosaurus\\nkentrosaurus\\nkhaan\\nkhetranisaurus\\nkileskus\\nkinnareemimus\\nkitadanisaurus\\nkittysaurus\\nklamelisauruskol\\nkoparion\\nkoreaceratops\\nkoreanosaurus\\nkoreanosaurus\\nkoshisaurus\\nkosmoceratops\\nkotasaurus\\nkoutalisaurus\\nkritosaurus\\nkryptops\\nkrzyzanowskisaurus\\nkukufeldia\\nkulceratops\\nkulindadromeus\\nkulindapteryx\\nkunbarrasaurus\\nkundurosaurus\\nkunmingosaurus\\nkuszholia\\nlabocania\\nlabrosaurus\\nlaelaps\\nlaevisuchus\\nlagerpeton\\nlagosuchus\\nlaiyangosaurus\\nlamaceratops\\nlambeosaurus\\nlametasaurus\\nlamplughsaura\\nlanasaurus\\nlancangosaurus\\nlancanjiangosaurus\\nlanzhousaurus\\nlaosaurus\\nlapampasaurus\\nlaplatasaurus\\nlapparentosaurus\\nlaquintasaura\\nlatenivenatrix\\nlatirhinus\\nleaellynasaura\\nleinkupal\\nleipsanosaurus\\nlengosaurus\\nleonerasaurus\\nlepidocheirosaurus\\nlepidus\\nleptoceratops\\nleptorhynchos\\nleptospondylus\\nleshansaurus\\nlesothosaurus\\nlessemsaurus\\nlevnesovia\\nlewisuchus\\nlexovisaurus\\nleyesaurus\\nliaoceratops\\nliaoningosaurus\\nliaoningtitan\\nliaoningvenator\\nliassaurus\\nlibycosaurus\\nligabueino\\nligabuesaurus\\nligomasaurus\\nlikhoelesaurus\\nliliensternus\\nlimaysaurus\\nlimnornis\\nlimnosaurus\\nlimusaurus\\nlinhenykus\\nlinheraptor\\nlinhevenator\\nlirainosaurus\\nlisboasaurusliubangosaurus\\nlohuecotitan\\nloncosaurus\\nlongisquama\\nlongosaurus\\nlophorhothon\\nlophostropheus\\nloricatosaurus\\nloricosaurus\\nlosillasaurus\\nlourinhanosaurus\\nlourinhasaurus\\nluanchuanraptor\\nluanpingosaurus\\nlucianosaurus\\nlucianovenator\\nlufengosaurus\\nlukousaurus\\nluoyanggia\\nlurdusaurus\\nlusitanosaurus\\nlusotitan\\nlycorhinus\\nlythronax\\nmacelognathus\\nmachairasaurus\\nmachairoceratops\\nmacrodontophion\\nmacrogryphosaurus\\nmacrophalangia\\nmacroscelosaurus\\nmacrurosaurus\\nmadsenius\\nmagnapaulia\\nmagnamanus\\nmagnirostris\\nmagnosaurus\\nmagulodon\\nmagyarosaurus\\nmahakala\\nmaiasaura\\nmajungasaurus\\nmajungatholus\\nmalarguesaurus\\nmalawisaurus\\nmaleevosaurus\\nmaleevus\\nmamenchisaurus\\nmanidens\\nmandschurosaurus\\nmanospondylus\\nmantellisaurus\\nmantellodon\\nmapusaurus\\nmarasuchus\\nmarisaurus\\nmarmarospondylus\\nmarshosaurus\\nmartharaptor\\nmasiakasaurus\\nmassospondylus\\nmatheronodon\\nmaxakalisaurus\\nmedusaceratops\\nmegacervixosaurus\\nmegadactylus\\nmegadontosaurus\\nmegalosaurus\\nmegapnosaurus\\nmegaraptor\\nmei\\nmelanorosaurus\\nmendozasaurus\\nmercuriceratops\\nmeroktenos\\nmetriacanthosaurus\\nmicrocephale\\nmicroceratops\\nmicroceratus\\nmicrocoelus\\nmicrodontosaurus\\nmicrohadrosaurus\\nmicropachycephalosaurus\\nmicroraptor\\nmicrovenator\\nmierasaurus\\nmifunesaurus\\nminmi\\nminotaurasaurus\\nmiragaia\\nmirischia\\nmoabosaurus\\nmochlodon\\nmohammadisaurus\\nmojoceratops\\nmongolosaurus\\nmonkonosaurus\\nmonoclonius\\nmonolophosaurus\\nmononychus\\nmononykus\\nmontanoceratops\\nmorelladon\\nmorinosaurus\\nmorosaurus\\nmorrosaurus\\nmosaiceratops\\nmoshisaurus\\nmtapaiasaurus\\nmtotosaurus\\nmurusraptor\\nmussaurus\\nmuttaburrasaurus\\nmuyelensaurus\\nmymoorapelta\\nnaashoibitosaurus\\nnambalia\\nnankangia\\nnanningosaurus\\nnanosaurus\\nnanotyrannus\\nnanshiungosaurus\\nnanuqsaurus\\nnanyangosaurus\\nnarambuenatitan\\nnasutoceratops\\nnatronasaurus\\nnebulasaurus\\nnectosaurus\\nnedcolbertia\\nnedoceratops\\nneimongosaurus\\nnemegtia\\nnemegtomaia\\nnemegtosaurus\\nneosaurus\\nneosodon\\nneovenator\\nneuquenraptor\\nneuquensaurus\\nnewtonsaurus\\nngexisaurus\\nnicksaurus\\nnigersaurus\\nningyuansaurus\\nniobrarasaurus\\nnipponosaurus\\nnoasaurus\\nnodocephalosaurus\\nnodosaurus\\nnomingia\\nnopcsaspondylus\\nnormanniasaurus\\nnothronychus\\nnotoceratops\\nnotocolossus\\nnotohypsilophodon\\nnqwebasaurus\\nnteregosaurus\\nnurosaurus\\nnuthetes\\nnyasasaurus\\nnyororosaurus\\nohmdenosaurus\\nojoceratops\\nojoraptorsaurus\\noligosaurus\\nolorotitan\\nomeisaurus\\nomosaurus\\nonychosaurus\\noohkotokia\\nopisthocoelicaudia\\noplosaurus\\norcomimus\\norinosaurusorkoraptor\\nornatotholusornithodesmus\\nornithoides\\nornitholestes\\nornithomerus\\nornithomimoides\\nornithomimus\\nornithopsis\\nornithosuchus\\nornithotarsus\\norodromeus\\norosaurus\\northogoniosaurus\\northomerus\\noryctodromeus\\noshanosaurus\\nosmakasaurus\\nostafrikasaurus\\nostromia\\nothnielia\\nothnielosaurus\\notogosaurus\\nouranosaurus\\noverosaurus\\noviraptor\\novoraptor\\nowenodon\\noxalaia\\nozraptor\\npachycephalosaurus\\npachyrhinosaurus\\npachysauriscus\\npachysaurops\\npachysaurus\\npachyspondylus\\npachysuchus\\npadillasaurus\\npakisaurus\\npalaeoctonus\\npalaeocursornis\\npalaeolimnornis\\npalaeopteryx\\npalaeosauriscus\\npalaeosaurus\\npalaeosaurus\\npalaeoscincus\\npaleosaurus\\npaludititan\\npaluxysaurus\\npampadromaeus\\npamparaptor\\npanamericansaurus\\npandoravenator\\npanguraptor\\npanoplosaurus\\npanphagia\\npantydraco\\nparaiguanodon\\nparalititan\\nparanthodon\\npararhabdodon\\nparasaurolophus\\npareiasaurus\\nparksosaurus\\nparonychodon\\nparrosaurus\\nparvicursor\\npatagonykus\\npatagosaurus\\npatagotitan\\npawpawsaurus\\npectinodon\\npedopenna\\npegomastax\\npeishansaurus\\npekinosaurus\\npelecanimimus\\npellegrinisaurus\\npeloroplites\\npelorosaurus\\npeltosaurus\\npenelopognathus\\npentaceratops\\npetrobrasaurus\\nphaedrolosaurus\\nphilovenator\\nphuwiangosaurus\\nphyllodon\\npiatnitzkysaurus\\npicrodon\\npinacosaurus\\npisanosaurus\\npitekunsaurus\\npiveteausaurus\\nplanicoxa\\nplateosauravus\\nplateosaurus\\nplatyceratops\\nplesiohadros\\npleurocoelus\\npleuropeltus\\npneumatoarthrus\\npneumatoraptor\\npodokesaurus\\npoekilopleuron\\npolacanthoides\\npolacanthus\\npolyodontosaurus\\npolyonax\\nponerosteus\\npoposaurus\\nparasaurolophus\\npostosuchus\\npowellvenator\\npradhania\\nprenocephale\\nprenoceratops\\npriconodon\\npriodontognathus\\nproa\\nprobactrosaurus\\nprobrachylophosaurus\\nproceratops\\nproceratosaurus\\nprocerosaurus\\nprocerosaurus\\nprocheneosaurus\\nprocompsognathus\\nprodeinodon\\nproiguanodon\\npropanoplosaurus\\nproplanicoxa\\nprosaurolophus\\nprotarchaeopteryx\\nprotecovasaurus\\nprotiguanodon\\nprotoavis\\nprotoceratops\\nprotognathosaurus\\nprotognathus\\nprotohadros\\nprotorosaurus\\nprotorosaurus\\nprotrachodon\\nproyandusaurus\\npseudolagosuchus\\npsittacosaurus\\npteropelyx\\npterospondylus\\npuertasaurus\\npukyongosaurus\\npulanesaura\\npycnonemosaurus\\npyroraptor\\nqantassaurus\\nqianzhousaurus\\nqiaowanlong\\nqijianglong\\nqinlingosaurus\\nqingxiusaurus\\nqiupalong\\nquaesitosaurus\\nquetecsaurus\\nquilmesaurus\\nrachitrema\\nrahiolisaurus\\nrahona\\nrahonavis\\nrajasaurus\\nrapator\\nrapetosaurus\\nraptorex\\nratchasimasaurus\\nrativates\\nrayososaurus\\nrazanandrongobe\\nrebbachisaurus\\nregaliceratops\\nregnosaurus\\nrevueltosaurus\\nrhabdodon\\nrhadinosaurus\\nrhinorex\\nrhodanosaurus\\nrhoetosaurus\\nrhopalodon\\nriabininohadros\\nrichardoestesia\\nrileya\\nrileyasuchus\\nrinchenia\\nrinconsaurus\\nrioarribasaurus\\nriodevasaurus\\nriojasaurus\\nriojasuchus\\nrocasaurus\\nroccosaurus\\nrubeosaurus\\nruehleia\\nrugocaudia\\nrugops\\nrukwatitan\\nruyangosaurus\\nsacisaurus\\nsahaliyania\\nsaichania\\nsaldamosaurus\\nsalimosaurus\\nsaltasaurus\\nsaltopus\\nsaltriosaurus\\nsanchusaurus\\nsangonghesaurus\\nsanjuansaurus\\nsanpasaurus\\nsantanaraptor\\nsaraikimasoom\\nsarahsaurus\\nsarcolestes\\nsarcosaurus\\nsarmientosaurus\\nsaturnalia\\nsauraechinodon\\nsaurolophus\\nsauroniops\\nsauropelta\\nsaurophaganax\\nsaurophagus\\nsauroplites\\nsauroposeidon\\nsaurornithoides\\nsaurornitholestes\\nsavannasaurus\\nscansoriopteryx\\nscaphonyx\\nscelidosaurus\\nscipionyx\\nsciurumimus\\nscleromochlus\\nscolosaurus\\nscutellosaurus\\nsecernosaurus\\nsefapanosaurus\\nsegisaurus\\nsegnosaurus\\nseismosaurus\\nseitaad\\nselimanosaurus\\nsellacoxa\\nsellosaurus\\nserendipaceratops\\nserikornis\\nshamosaurus\\nshanag\\nshanshanosaurus\\nshantungosaurus\\nshanxia\\nshanyangosaurus\\nshaochilong\\nshenzhousaurus\\nshidaisaurus\\nshingopana\\nshixinggia\\nshuangbaisaurus\\nshuangmiaosaurus\\nshunosaurus\\nshuvosaurus\\nshuvuuia\\nsiamodon\\nsiamodracon\\nsiamosaurus\\nsiamotyrannus\\nsiats\\nsibirosaurus\\nsibirotitan\\nsidormimus\\nsigilmassasaurus\\nsilesaurus\\nsiluosaurus\\nsilvisaurus\\nsimilicaudipteryx\\nsinocalliopteryx\\nsinoceratops\\nsinocoelurus\\nsinopelta\\nsinopeltosaurus\\nsinornithoides\\nsinornithomimus\\nsinornithosaurus\\nsinosauropteryx\\nsinosaurus\\nsinotyrannus\\nsinovenator\\nsinraptor\\nsinusonasus\\nsirindhorna\\nskorpiovenator\\nsmilodon\\nsonidosaurus\\nsonorasaurus\\nsoriatitan\\nsphaerotholus\\nsphenosaurus\\nsphenospondylus\\nspiclypeus\\nspinophorosaurus\\nspinops\\nspinosaurus\\nspinostropheus\\nspinosuchus\\nspondylosoma\\nsqualodon\\nstaurikosaurus\\nstegoceras\\nstegopelta\\nstegosaurides\\nstegosaurus\\nstenonychosaurus\\nstenopelix\\nstenotholus\\nstephanosaurus\\nstereocephalus\\nsterrholophus\\nstokesosaurus\\nstormbergia\\nstrenusaurus\\nstreptospondylus\\nstruthiomimus\\nstruthiosaurus\\nstygimoloch\\nstygivenator\\nstyracosaurus\\nsuccinodon\\nsuchomimus\\nsuchosaurus\\nsuchoprion\\nsugiyamasaurus\\nskeleton\\nsulaimanisaurus\\nsupersaurus\\nsuuwassea\\nsuzhousaurus\\nsymphyrophus\\nsyngonosaurus\\nsyntarsus\\nsyrmosaurus\\nszechuanosaurus\\ntachiraptor\\ntalarurus\\ntalenkauen\\ntalos\\ntambatitanis\\ntangvayosaurus\\ntanius\\ntanycolagreus\\ntanystropheus\\ntanystrosuchus\\ntaohelong\\ntapinocephalus\\ntapuiasaurus\\ntarascosaurus\\ntarbosaurus\\ntarchia\\ntastavinsaurus\\ntatankacephalus\\ntatankaceratops\\ntataouinea\\ntatisaurus\\ntaurovenator\\ntaveirosaurus\\ntawa\\ntawasaurus\\ntazoudasaurus\\ntechnosaurus\\ntecovasaurus\\ntehuelchesaurus\\nteihivenator\\nteinurosaurus\\nteleocrater\\ntelmatosaurus\\ntenantosaurus\\ntenchisaurus\\ntendaguria\\ntengrisaurus\\ntenontosaurus\\nteratophoneus\\nteratosaurus\\ntermatosaurus\\ntethyshadros\\ntetragonosaurus\\ntexacephale\\ntexasetes\\nteyuwasu\\nthecocoelurus\\nthecodontosaurus\\nthecospondylus\\ntheiophytalia\\ntherizinosaurus\\ntherosaurus\\nthescelosaurus\\nthespesius\\nthotobolosaurus\\ntianchisaurus\\ntianchungosaurus\\ntianyulong\\ntianyuraptor\\ntianzhenosaurus\\ntichosteus\\ntienshanosaurus\\ntimimus\\ntimurlengia\\ntitanoceratops\\ntitanosaurus\\ntitanosaurus\\ntochisaurus\\ntomodon\\ntonganosaurus\\ntongtianlong\\ntonouchisaurus\\ntorilion\\ntornieria\\ntorosaurus\\ntorvosaurus\\ntototlmimus\\ntrachodon\\ntraukutitan\\ntrialestes\\ntriassolestes\\ntribelesodon\\ntriceratops\\ntrigonosaurus\\ntrimucrodon\\ntrinisaura\\ntriunfosaurus\\ntroodon\\ntsaagan\\ntsagantegia\\ntsintaosaurus\\ntugulusaurus\\ntuojiangosaurus\\nturanoceratops\\nturiasaurus\\ntylocephale\\ntylosteus\\ntyrannosaurus\\ntyrannotitan\\nillustration\\nuberabatitan\\nudanoceratops\\nugrosaurus\\nugrunaaluk\\nuintasaurus\\nultrasauros\\nultrasaurus\\nultrasaurus\\numarsaurus\\nunaysaurus\\nunenlagia\\nunescoceratops\\nunicerosaurus\\nunquillosaurus\\nurbacodon\\nutahceratops\\nutahraptor\\nuteodon\\nvagaceratops\\nvahiny\\nvaldoraptor\\nvaldosaurus\\nvariraptor\\nvelociraptor\\nvectensia\\nvectisaurus\\nvelafrons\\nvelocipes\\nvelociraptor\\nvelocisaurus\\nvenaticosuchus\\nvenenosaurus\\nveterupristisaurus\\nviavenator\\nvitakridrinda\\nvitakrisaurus\\nvolkheimeria\\nvouivria\\nvulcanodon\\nwadhurstia\\nwakinosaurus\\nwalgettosuchus\\nwalkeria\\nwalkersaurus\\nwangonisaurus\\nwannanosaurus\\nwellnhoferia\\nwendiceratops\\nwiehenvenator\\nwillinakaqe\\nwintonotitan\\nwuerhosaurus\\nwulagasaurus\\nwulatelong\\nwyleyia\\nwyomingraptor\\nxenoceratops\\nxenoposeidon\\nxenotarsosaurus\\nxianshanosaurus\\nxiaosaurus\\nxingxiulong\\nxinjiangovenator\\nxinjiangtitan\\nxiongguanlong\\nxixianykus\\nxixiasaurus\\nxixiposaurus\\nxuanhanosaurus\\nxuanhuaceratops\\nxuanhuasaurus\\nxuwulong\\nyaleosaurus\\nyamaceratops\\nyandusaurus\\nyangchuanosaurus\\nyaverlandia\\nyehuecauhceratops\\nyezosaurus\\nyibinosaurus\\nyimenosaurus\\nyingshanosaurus\\nyinlong\\nyixianosaurus\\nyizhousaurus\\nyongjinglong\\nyuanmouraptor\\nyuanmousaurus\\nyueosaurus\\nyulong\\nyunganglong\\nyunmenglong\\nyunnanosaurus\\nyunxianosaurus\\nyurgovuchia\\nyutyrannus\\nzanabazar\\nzanclodon\\nzapalasaurus\\nzapsalis\\nzaraapelta\\nzatomuszby\\nzephyrosaurus\\nzhanghenglong\\nzhejiangosaurus\\nzhenyuanlong\\nzhongornis\\nzhongjianosaurus\\nzhongyuansaurus\\nzhuchengceratops\\nzhuchengosaurus\\nzhuchengtitan\\nzhuchengtyrannus\\nziapelta\\nzigongosaurus\\nzizhongosaurus\\nzuniceratops\\nzunityrannus\\nzuolong\\nzuoyunlong\\nzupaysaurus\\nzuul'"
            ]
          },
          "metadata": {
            "tags": []
          },
          "execution_count": 5
        }
      ]
    },
    {
      "cell_type": "code",
      "metadata": {
        "id": "7srnAex2iMmZ",
        "colab": {
          "base_uri": "https://localhost:8080/"
        },
        "outputId": "243fd0e6-685e-4860-ce3e-6b1c0d408ab1"
      },
      "source": [
        "# data = open('dinos.txt', 'r').read()\n",
        "# data=data.lower()\n",
        "# data"
      ],
      "execution_count": null,
      "outputs": [
        {
          "output_type": "stream",
          "text": [
            "error: pathspec 'David' did not match any file(s) known to git.\n"
          ],
          "name": "stdout"
        }
      ]
    },
    {
      "cell_type": "code",
      "metadata": {
        "colab": {
          "base_uri": "https://localhost:8080/"
        },
        "id": "ybR3ie_tL0wq",
        "outputId": "85d71a17-0deb-4eb3-9bab-8ae58712074b"
      },
      "source": [
        "import numpy as np\n",
        "\n",
        "chars = list(set(data))\n",
        "data_size, vocab_size = len(data), len(chars)\n",
        "print('There are %d total characters and %d unique characters in your data.' % (data_size, vocab_size))"
      ],
      "execution_count": null,
      "outputs": [
        {
          "output_type": "stream",
          "text": [
            "There are 19909 total characters and 27 unique characters in your data.\n"
          ],
          "name": "stdout"
        }
      ]
    },
    {
      "cell_type": "code",
      "metadata": {
        "colab": {
          "base_uri": "https://localhost:8080/"
        },
        "id": "pY86UHlTZQCX",
        "outputId": "e27e47d1-276e-463e-caea-17cb4d02e077"
      },
      "source": [
        "char_to_ix = { ch:i for i,ch in enumerate(sorted(chars)) }\n",
        "ix_to_char = { i:ch for i,ch in enumerate(sorted(chars)) }\n",
        "print(ix_to_char)"
      ],
      "execution_count": null,
      "outputs": [
        {
          "output_type": "stream",
          "text": [
            "{0: '\\n', 1: 'a', 2: 'b', 3: 'c', 4: 'd', 5: 'e', 6: 'f', 7: 'g', 8: 'h', 9: 'i', 10: 'j', 11: 'k', 12: 'l', 13: 'm', 14: 'n', 15: 'o', 16: 'p', 17: 'q', 18: 'r', 19: 's', 20: 't', 21: 'u', 22: 'v', 23: 'w', 24: 'x', 25: 'y', 26: 'z'}\n"
          ],
          "name": "stdout"
        }
      ]
    },
    {
      "cell_type": "markdown",
      "metadata": {
        "id": "Hg60cDLaZWaH"
      },
      "source": [
        "\n",
        "---\n",
        "<img src=\"https://raw.githubusercontent.com/Kulbear/deep-learning-coursera/997fdb2e2db67acd45d29ae418212463a54be06d/Sequence%20Models/images/rnn1.png\">\n",
        "\n",
        "---\n",
        "\n",
        "\n"
      ]
    },
    {
      "cell_type": "code",
      "metadata": {
        "id": "RxpbhISzZqkX"
      },
      "source": [
        "def clip(gradients, maxValue):\n",
        "    '''\n",
        "    Clips the gradients' values between minimum and maximum.\n",
        "    \n",
        "    Arguments:\n",
        "    gradients -- a dictionary containing the gradients \"dWaa\", \"dWax\", \"dWya\", \"db\", \"dby\"\n",
        "    maxValue -- everything above this number is set to this number, and everything less than -maxValue is set to -maxValue\n",
        "    \n",
        "    Returns: \n",
        "    gradients -- a dictionary with the clipped gradients.\n",
        "    '''\n",
        "    \n",
        "    dWaa, dWax, dWya, db, dby = gradients['dWaa'], gradients['dWax'], gradients['dWya'], gradients['db'], gradients['dby']\n",
        "   \n",
        "    ### START CODE HERE ###\n",
        "    # clip to mitigate exploding gradients, loop over [dWax, dWaa, dWya, db, dby]. (≈2 lines)\n",
        "    for gradient in [dWax, dWaa, dWya, db, dby]:\n",
        "        np.clip(gradient, -maxValue, maxValue, out=gradient)\n",
        "    ### END CODE HERE ###\n",
        "    \n",
        "    gradients = {\"dWaa\": dWaa, \"dWax\": dWax, \"dWya\": dWya, \"db\": db, \"dby\": dby}\n",
        "    \n",
        "    return gradients"
      ],
      "execution_count": null,
      "outputs": []
    },
    {
      "cell_type": "code",
      "metadata": {
        "colab": {
          "base_uri": "https://localhost:8080/"
        },
        "id": "XHJtY0wzciFv",
        "outputId": "b20b058c-32aa-49bd-da18-4c6170ba292a"
      },
      "source": [
        "np.random.seed(3)\n",
        "dWax = np.random.randn(5,3)*10\n",
        "dWaa = np.random.randn(5,5)*10\n",
        "dWya = np.random.randn(2,5)*10\n",
        "db = np.random.randn(5,1)*10\n",
        "dby = np.random.randn(2,1)*10\n",
        "# print(dWaa[1][2])\n",
        "gradients = {\"dWax\": dWax, \"dWaa\": dWaa, \"dWya\": dWya, \"db\": db, \"dby\": dby}\n",
        "gradients = clip(gradients, 10)\n",
        "print(\"gradients[\\\"dWaa\\\"][1][2] =\", gradients[\"dWaa\"][1][2])\n",
        "print(\"gradients[\\\"dWax\\\"][3][1] =\", gradients[\"dWax\"][3][1])\n",
        "print(\"gradients[\\\"dWya\\\"][1][2] =\", gradients[\"dWya\"][1][2])\n",
        "print(\"gradients[\\\"db\\\"][4] =\", gradients[\"db\"][4])\n",
        "print(\"gradients[\\\"dby\\\"][1] =\", gradients[\"dby\"][1])\n"
      ],
      "execution_count": null,
      "outputs": [
        {
          "output_type": "stream",
          "text": [
            "gradients[\"dWaa\"][1][2] = 10.0\n",
            "gradients[\"dWax\"][3][1] = -10.0\n",
            "gradients[\"dWya\"][1][2] = 0.2971381536101662\n",
            "gradients[\"db\"][4] = [10.]\n",
            "gradients[\"dby\"][1] = [8.45833407]\n"
          ],
          "name": "stdout"
        }
      ]
    },
    {
      "cell_type": "code",
      "metadata": {
        "colab": {
          "base_uri": "https://localhost:8080/"
        },
        "id": "UUcXkROejvzt",
        "outputId": "d3634f8b-3c8b-44f6-c50d-00d49a8c61ec"
      },
      "source": [
        "def sample(parameters, char_to_ix, seed):\n",
        "    \"\"\"\n",
        "    Sample a sequence of characters according to a sequence of probability distributions output of the RNN\n",
        "\n",
        "    Arguments:\n",
        "    parameters -- python dictionary containing the parameters Waa, Wax, Wya, by, and b. \n",
        "    char_to_ix -- python dictionary mapping each character to an index.\n",
        "    seed -- used for grading purposes. Do not worry about it.\n",
        "\n",
        "    Returns:\n",
        "    indices -- a list of length n containing the indices of the sampled characters.\n",
        "    \"\"\"\n",
        "    \n",
        "    # Retrieve parameters and relevant shapes from \"parameters\" dictionary\n",
        "    Waa, Wax, Wya, by, b = parameters['Waa'], parameters['Wax'], parameters['Wya'], parameters['by'], parameters['b']\n",
        "    vocab_size = by.shape[0]\n",
        "    n_a = Waa.shape[1]\n",
        "    \n",
        "    ### START CODE HERE ###\n",
        "    # Step 1: Create the one-hot vector x for the first character (initializing the sequence generation). (≈1 line)\n",
        "    x = np.zeros((vocab_size, 1))\n",
        "    # Step 1': Initialize a_prev as zeros (≈1 line)\n",
        "    a_prev = np.zeros((n_a, 1))\n",
        "    \n",
        "    # Create an empty list of indices, this is the list which will contain the list of indices of the characters to generate (≈1 line)\n",
        "    indices = []\n",
        "    \n",
        "    # Idx is a flag to detect a newline character, we initialize it to -1\n",
        "    idx = -1 \n",
        "    \n",
        "    # Loop over time-steps t. At each time-step, sample a character from a probability distribution and append \n",
        "    # its index to \"indices\". We'll stop if we reach 50 characters (which should be very unlikely with a well \n",
        "    # trained model), which helps debugging and prevents entering an infinite loop. \n",
        "    counter = 0\n",
        "    newline_character = char_to_ix['\\n']\n",
        "    \n",
        "    while (idx != newline_character and counter != 50):\n",
        "        \n",
        "        # Step 2: Forward propagate x using the equations (1), (2) and (3)\n",
        "        a = np.tanh(np.dot(Wax, x) + np.dot(Waa, a_prev) + b)\n",
        "        z = np.dot(Wya, a) + by\n",
        "        y = softmax(z)\n",
        "        \n",
        "        # for grading purposes\n",
        "        np.random.seed(counter+seed) \n",
        "        \n",
        "        # Step 3: Sample the index of a character within the vocabulary from the probability distribution y\n",
        "        idx = np.random.choice(list(range(vocab_size)), p = y.ravel())\n",
        "\n",
        "        # Append the index to \"indices\"\n",
        "        indices.append(idx)\n",
        "        \n",
        "        # Step 4: Overwrite the input character as the one corresponding to the sampled index.\n",
        "        x = np.zeros((vocab_size, 1))\n",
        "        x[idx] = 1\n",
        "        \n",
        "        # Update \"a_prev\" to be \"a\"\n",
        "        a_prev = a\n",
        "        \n",
        "        # for grading purposes\n",
        "        seed += 1\n",
        "        counter +=1\n",
        "        \n",
        "    ### END CODE HERE ###\n",
        "\n",
        "    if (counter == 50):\n",
        "        indices.append(char_to_ix['\\n'])\n",
        "    \n",
        "    return indices\n",
        "\n",
        "np.random.seed(2)\n",
        "_, n_a = 20, 100\n",
        "Wax, Waa, Wya = np.random.randn(n_a, vocab_size), np.random.randn(n_a, n_a), np.random.randn(vocab_size, n_a)\n",
        "b, by = np.random.randn(n_a, 1), np.random.randn(vocab_size, 1)\n",
        "parameters = {\"Wax\": Wax, \"Waa\": Waa, \"Wya\": Wya, \"b\": b, \"by\": by}\n",
        "\n",
        "\n",
        "indices = sample(parameters, char_to_ix, 0)\n",
        "indices\n",
        "print(\"Sampling:\")\n",
        "print(\"list of sampled indices:\", indices, '\\n')\n",
        "print(\"list of sampled characters:\", [ix_to_char[i] for i in indices])"
      ],
      "execution_count": null,
      "outputs": [
        {
          "output_type": "stream",
          "text": [
            "Sampling:\n",
            "list of sampled indices: [12, 17, 24, 14, 13, 9, 10, 22, 24, 6, 13, 11, 12, 6, 21, 15, 21, 14, 3, 2, 1, 21, 18, 24, 7, 25, 6, 25, 18, 10, 16, 2, 3, 8, 15, 12, 11, 7, 1, 12, 10, 2, 7, 7, 11, 17, 24, 12, 13, 24, 0] \n",
            "\n",
            "list of sampled characters: ['l', 'q', 'x', 'n', 'm', 'i', 'j', 'v', 'x', 'f', 'm', 'k', 'l', 'f', 'u', 'o', 'u', 'n', 'c', 'b', 'a', 'u', 'r', 'x', 'g', 'y', 'f', 'y', 'r', 'j', 'p', 'b', 'c', 'h', 'o', 'l', 'k', 'g', 'a', 'l', 'j', 'b', 'g', 'g', 'k', 'q', 'x', 'l', 'm', 'x', '\\n']\n"
          ],
          "name": "stdout"
        }
      ]
    },
    {
      "cell_type": "code",
      "metadata": {
        "id": "nolHWLQtoT2p"
      },
      "source": [
        "def optimize(X, Y, a_prev, parameters, learning_rate = 0.01):\n",
        "    \"\"\"\n",
        "    Execute one step of the optimization to train the model.\n",
        "    \n",
        "    Arguments:\n",
        "    X -- list of integers, where each integer is a number that maps to a character in the vocabulary.\n",
        "    Y -- list of integers, exactly the same as X but shifted one index to the left.\n",
        "    a_prev -- previous hidden state.\n",
        "    parameters -- python dictionary containing:\n",
        "                        Wax -- Weight matrix multiplying the input, numpy array of shape (n_a, n_x)\n",
        "                        Waa -- Weight matrix multiplying the hidden state, numpy array of shape (n_a, n_a)\n",
        "                        Wya -- Weight matrix relating the hidden-state to the output, numpy array of shape (n_y, n_a)\n",
        "                        b --  Bias, numpy array of shape (n_a, 1)\n",
        "                        by -- Bias relating the hidden-state to the output, numpy array of shape (n_y, 1)\n",
        "    learning_rate -- learning rate for the model.\n",
        "    \n",
        "    Returns:\n",
        "    loss -- value of the loss function (cross-entropy)\n",
        "    gradients -- python dictionary containing:\n",
        "                        dWax -- Gradients of input-to-hidden weights, of shape (n_a, n_x)\n",
        "                        dWaa -- Gradients of hidden-to-hidden weights, of shape (n_a, n_a)\n",
        "                        dWya -- Gradients of hidden-to-output weights, of shape (n_y, n_a)\n",
        "                        db -- Gradients of bias vector, of shape (n_a, 1)\n",
        "                        dby -- Gradients of output bias vector, of shape (n_y, 1)\n",
        "    a[len(X)-1] -- the last hidden state, of shape (n_a, 1)\n",
        "    \"\"\"\n",
        "    \n",
        "    ### START CODE HERE ###\n",
        "    \n",
        "    # Forward propagate through time (≈1 line)\n",
        "    loss, cache = rnn_forward(X, Y, a_prev, parameters)\n",
        "    \n",
        "    # # Backpropagate through time (≈1 line)\n",
        "    gradients, a = rnn_backward(X, Y, parameters, cache)\n",
        "    \n",
        "    # # Clip your gradients between -5 (min) and 5 (max) (≈1 line)\n",
        "    gradients = clip(gradients, 5)\n",
        "    \n",
        "    # # Update parameters (≈1 line)\n",
        "    parameters = update_parameters(parameters, gradients, learning_rate)\n",
        "    \n",
        "    ### END CODE HERE ###\n",
        "    \n",
        "    return loss, gradients, a[len(X)-1]\n"
      ],
      "execution_count": null,
      "outputs": []
    },
    {
      "cell_type": "code",
      "metadata": {
        "colab": {
          "base_uri": "https://localhost:8080/"
        },
        "id": "DlyJSNrkoYpw",
        "outputId": "8f383198-776f-47a7-ff1b-0c8243c2623a"
      },
      "source": [
        "np.random.seed(1)\n",
        "vocab_size, n_a = 27, 100\n",
        "a_prev = np.random.randn(n_a, 1)\n",
        "Wax, Waa, Wya = np.random.randn(n_a, vocab_size), np.random.randn(n_a, n_a), np.random.randn(vocab_size, n_a)\n",
        "b, by = np.random.randn(n_a, 1), np.random.randn(vocab_size, 1)\n",
        "\n",
        "parameters = {\"Wax\": Wax, \"Waa\": Waa, \"Wya\": Wya, \"b\": b, \"by\": by}\n",
        "X = [12,3,5,11,22,3]\n",
        "Y = [4,14,11,22,25, 26]\n",
        "# \n",
        "loss, gradients, a_last = optimize(X, Y, a_prev, parameters, learning_rate = 0.01)\n",
        "print(\"Loss =\", loss)\n",
        "print(\"gradients[\\\"dWaa\\\"][1][2] =\", gradients[\"dWaa\"][1][2])\n",
        "print(\"np.argmax(gradients[\\\"dWax\\\"]) =\", np.argmax(gradients[\"dWax\"]))\n",
        "print(\"gradients[\\\"dWya\\\"][1][2] =\", gradients[\"dWya\"][1][2])\n",
        "print(\"gradients[\\\"db\\\"][4] =\", gradients[\"db\"][4])\n",
        "print(\"gradients[\\\"dby\\\"][1] =\", gradients[\"dby\"][1])\n",
        "print(\"a_last[4] =\", a_last[4])\n",
        "\n"
      ],
      "execution_count": null,
      "outputs": [
        {
          "output_type": "stream",
          "text": [
            "Loss = 126.50397572165369\n",
            "gradients[\"dWaa\"][1][2] = 0.19470931534720926\n",
            "np.argmax(gradients[\"dWax\"]) = 93\n",
            "gradients[\"dWya\"][1][2] = -0.007773876032003706\n",
            "gradients[\"db\"][4] = [-0.06809825]\n",
            "gradients[\"dby\"][1] = [0.01538192]\n",
            "a_last[4] = [-1.]\n"
          ],
          "name": "stdout"
        }
      ]
    },
    {
      "cell_type": "code",
      "metadata": {
        "id": "uDtzLTXzrng5"
      },
      "source": [
        "\n",
        "def model(data, ix_to_char, char_to_ix, num_iterations = 50000, n_a = 50, dino_names = 7, vocab_size = 27):\n",
        "    \"\"\"\n",
        "    Trains the model and generates dinosaur names. \n",
        "    \n",
        "    Arguments:\n",
        "    data -- text corpus\n",
        "    ix_to_char -- dictionary that maps the index to a character\n",
        "    char_to_ix -- dictionary that maps a character to an index\n",
        "    num_iterations -- number of iterations to train the model for\n",
        "    n_a -- number of units of the RNN cell\n",
        "    dino_names -- number of dinosaur names you want to sample at each iteration. \n",
        "    vocab_size -- number of unique characters found in the text, size of the vocabulary\n",
        "    \n",
        "    Returns:\n",
        "    parameters -- learned parameters\n",
        "    \"\"\"\n",
        "    \n",
        "    # Retrieve n_x and n_y from vocab_size\n",
        "    n_x, n_y = vocab_size, vocab_size\n",
        "    \n",
        "    # Initialize parameters\n",
        "    parameters = initialize_parameters(n_a, n_x, n_y)\n",
        "    \n",
        "    # Initialize loss (this is required because we want to smooth our loss, don't worry about it)\n",
        "    loss = get_initial_loss(vocab_size, dino_names)\n",
        "    \n",
        "    # Build list of all dinosaur names (training examples).\n",
        "    examples = data.split(\"\\n\")\n",
        "    \n",
        "    # Shuffle list of all dinosaur names\n",
        "    np.random.seed(0)\n",
        "    np.random.shuffle(examples)\n",
        "    \n",
        "    # Initialize the hidden state of your LSTM\n",
        "    a_prev = np.zeros((n_a, 1))\n",
        "    \n",
        "    # Optimization loop\n",
        "    for j in range(num_iterations):\n",
        "        \n",
        "        ### START CODE HERE ###\n",
        "        \n",
        "        # Use the hint above to define one training example (X,Y) (≈ 2 lines)\n",
        "        index = j % len(examples)\n",
        "        X = [None] + [char_to_ix[ch] for ch in examples[index]] \n",
        "        Y = X[1:] + [char_to_ix[\"\\n\"]]\n",
        "        \n",
        "        # Perform one optimization step: Forward-prop -> Backward-prop -> Clip -> Update parameters\n",
        "        # Choose a learning rate of 0.01\n",
        "        curr_loss, gradients, a_prev = optimize(X, Y, a_prev, parameters, learning_rate = 0.01)\n",
        "        \n",
        "        ### END CODE HERE ###\n",
        "        \n",
        "        # Use a latency trick to keep the loss smooth. It happens here to accelerate the training.\n",
        "        loss = smooth(loss, curr_loss)\n",
        "\n",
        "        # Every 2000 Iteration, generate \"n\" characters thanks to sample() to check if the model is learning properly\n",
        "        if j % 2000 == 0:\n",
        "            \n",
        "            print('Iteration: %d, Loss: %f' % (j, loss) + '\\n')\n",
        "            \n",
        "            # The number of dinosaur names to print\n",
        "            seed = 0\n",
        "            for name in range(dino_names):\n",
        "                \n",
        "                # Sample indices and print them\n",
        "                sampled_indices = sample(parameters, char_to_ix, seed)\n",
        "                print_sample(sampled_indices, ix_to_char)\n",
        "                \n",
        "                seed += 1  # To get the same result for grading purposed, increment the seed by one. \n",
        "      \n",
        "            print('\\n')\n",
        "        \n",
        "    return parameters"
      ],
      "execution_count": null,
      "outputs": []
    },
    {
      "cell_type": "code",
      "metadata": {
        "colab": {
          "base_uri": "https://localhost:8080/"
        },
        "id": "mYLvUcc-sIfy",
        "outputId": "94fb8f23-f504-46f5-e3ed-4d50794434ca"
      },
      "source": [
        "parameters = model(data, ix_to_char, char_to_ix)"
      ],
      "execution_count": null,
      "outputs": [
        {
          "output_type": "stream",
          "text": [
            "Iteration: 0, Loss: 23.087336\n",
            "\n",
            "Nkzxwtdmfqoeyhsqwasjkjvu\n",
            "Kneb\n",
            "Kzxwtdmfqoeyhsqwasjkjvu\n",
            "Neb\n",
            "Zxwtdmfqoeyhsqwasjkjvu\n",
            "Eb\n",
            "Xwtdmfqoeyhsqwasjkjvu\n",
            "\n",
            "\n",
            "Iteration: 2000, Loss: 27.884160\n",
            "\n",
            "Liusskeomnolxeros\n",
            "Hmdaairus\n",
            "Hytroligoraurus\n",
            "Lecalosapaus\n",
            "Xusicikoraurus\n",
            "Abalpsamantisaurus\n",
            "Tpraneronxeros\n",
            "\n",
            "\n",
            "Iteration: 4000, Loss: 25.901815\n",
            "\n",
            "Mivrosaurus\n",
            "Inee\n",
            "Ivtroplisaurus\n",
            "Mbaaisaurus\n",
            "Wusichisaurus\n",
            "Cabaselachus\n",
            "Toraperlethosdarenitochusthiamamumamaon\n",
            "\n",
            "\n",
            "Iteration: 6000, Loss: 24.608779\n",
            "\n",
            "Onwusceomosaurus\n",
            "Lieeaerosaurus\n",
            "Lxussaurus\n",
            "Oma\n",
            "Xusteonosaurus\n",
            "Eeahosaurus\n",
            "Toreonosaurus\n",
            "\n",
            "\n",
            "Iteration: 8000, Loss: 24.070350\n",
            "\n",
            "Onxusichepriuon\n",
            "Kilabersaurus\n",
            "Lutrodon\n",
            "Omaaerosaurus\n",
            "Xutrcheps\n",
            "Edaksoje\n",
            "Trodiktonus\n",
            "\n",
            "\n",
            "Iteration: 10000, Loss: 23.844446\n",
            "\n",
            "Onyusaurus\n",
            "Klecalosaurus\n",
            "Lustodon\n",
            "Ola\n",
            "Xusodonia\n",
            "Eeaeosaurus\n",
            "Troceosaurus\n",
            "\n",
            "\n",
            "Iteration: 12000, Loss: 23.291971\n",
            "\n",
            "Onyxosaurus\n",
            "Kica\n",
            "Lustrepiosaurus\n",
            "Olaagrraiansaurus\n",
            "Yuspangosaurus\n",
            "Eealosaurus\n",
            "Trognesaurus\n",
            "\n",
            "\n",
            "Iteration: 14000, Loss: 23.382338\n",
            "\n",
            "Meutromodromurus\n",
            "Inda\n",
            "Iutroinatorsaurus\n",
            "Maca\n",
            "Yusteratoptititan\n",
            "Ca\n",
            "Troclosaurus\n",
            "\n",
            "\n",
            "Iteration: 16000, Loss: 23.254361\n",
            "\n",
            "Meuspsanerontasptasaurus\n",
            "Indaa\n",
            "Iuspsargosaurus\n",
            "Macacosaurus\n",
            "Yusocllan\n",
            "Caaesia\n",
            "Trpangosaurus\n",
            "\n",
            "\n",
            "Iteration: 18000, Loss: 22.846850\n",
            "\n",
            "Phytromadrorus\n",
            "Mela\n",
            "Myssogelthaus\n",
            "Pegalosaurus\n",
            "Ytronibosaurus\n",
            "Eiahosaurus\n",
            "Trodonangus\n",
            "\n",
            "\n",
            "Iteration: 20000, Loss: 22.983529\n",
            "\n",
            "Meutroenesaurus\n",
            "Kolaacosaurus\n",
            "Lytosaurus\n",
            "Macalosaurus\n",
            "Ytrodon\n",
            "Eiaepona\n",
            "Trochkosaurus\n",
            "\n",
            "\n",
            "Iteration: 22000, Loss: 22.793754\n",
            "\n",
            "Nivosaurus\n",
            "Lideagosaurus\n",
            "Lyrosaurus\n",
            "Olaadronebosaurus\n",
            "Yusodon\n",
            "Eiadoreg\n",
            "Trocelosaurus\n",
            "\n",
            "\n",
            "Iteration: 24000, Loss: 22.698216\n",
            "\n",
            "Meutrong\n",
            "Indabbosaurus\n",
            "Iutosaurus\n",
            "Macaisphcarperatosaurus\n",
            "Yushandosaurus\n",
            "Daadosaurus\n",
            "Trraparosphorochirhosaurus\n",
            "\n",
            "\n",
            "Iteration: 26000, Loss: 22.708797\n",
            "\n",
            "Meutosaurus\n",
            "Jiga\n",
            "Kustlephongxhintarimisanothys\n",
            "Medalosaurus\n",
            "Yustangosaurus\n",
            "Eiaeosaurus\n",
            "Trteodon\n",
            "\n",
            "\n",
            "Iteration: 28000, Loss: 22.621907\n",
            "\n",
            "Piutrong\n",
            "Llacaisaurus\n",
            "Lytrocephiatitar\n",
            "Pacaessan\n",
            "Yusichasaurus\n",
            "Eiaeosalarosaurus\n",
            "Trocheosaurus\n",
            "\n",
            "\n",
            "Iteration: 30000, Loss: 22.597238\n",
            "\n",
            "Pavuton\n",
            "Meicalosaurus\n",
            "Mustolnatinus\n",
            "Pacafsthacisaurus\n",
            "Yuskancosaurus\n",
            "Gaaeropadrus\n",
            "Trtcodon\n",
            "\n",
            "\n",
            "Iteration: 32000, Loss: 22.324754\n",
            "\n",
            "Maxusianatiasaurus\n",
            "Incabasia\n",
            "Kyusianasaurus\n",
            "Macaishbachymonanvialvanosaurus\n",
            "Yusianasaurus\n",
            "Eeahiradantaurus\n",
            "Trodonosaurus\n",
            "\n",
            "\n",
            "Iteration: 34000, Loss: 22.527148\n",
            "\n",
            "Nguspolophiangosaurus\n",
            "Inecaestedan\n",
            "Jussiaichodsaurus\n",
            "Nca\n",
            "Ystidon\n",
            "Eiadorga\n",
            "Trodonshauosaurus\n",
            "\n",
            "\n",
            "Iteration: 36000, Loss: 22.670170\n",
            "\n",
            "Matrsiaiainauhoroconghorantavenathes\n",
            "Incaaesodebhrosaurus\n",
            "Jusshaongohus\n",
            "Macalosaurus\n",
            "Yusianchodon\n",
            "Ehairona\n",
            "Trocenathus\n",
            "\n",
            "\n",
            "Iteration: 38000, Loss: 22.149352\n",
            "\n",
            "Nivosaurus\n",
            "Jigabesole\n",
            "Kutroinathoteritaus\n",
            "Ndabeshicapsaurus\n",
            "Ystomelosaurus\n",
            "Ejaishia\n",
            "Trohelosaurus\n",
            "\n",
            "\n",
            "Iteration: 40000, Loss: 22.403820\n",
            "\n",
            "Mestrolominaveratops\n",
            "Inecagosaurus\n",
            "Jussofnatortorex\n",
            "Madalpsaurus\n",
            "Yrus\n",
            "Gaberthedrops\n",
            "Sroimenjis\n",
            "\n",
            "\n",
            "Iteration: 42000, Loss: 22.381091\n",
            "\n",
            "Mbwtrohelosaurus\n",
            "Inda\n",
            "Justrhomngconnos\n",
            "Macahosaurus\n",
            "Yrtogongphygosccopheus\n",
            "Gaberta\n",
            "Trucheng\n",
            "\n",
            "\n",
            "Iteration: 44000, Loss: 22.175300\n",
            "\n",
            "Meustoljeosaurus\n",
            "Incecasaurus\n",
            "Ivrosaurus\n",
            "Mecaismdeblonykheus\n",
            "Yusidon\n",
            "Egahosaurus\n",
            "Troingosaurus\n",
            "\n",
            "\n",
            "Iteration: 46000, Loss: 22.263960\n",
            "\n",
            "Mitrosaurus\n",
            "Ingabesteichus\n",
            "Itrosaurus\n",
            "Mecalosaurus\n",
            "Ytrodontonyjorsaton\n",
            "Eebestig\n",
            "Torasaurus\n",
            "\n",
            "\n",
            "Iteration: 48000, Loss: 22.150464\n",
            "\n",
            "Mitrosaurus\n",
            "Inecaishacbisaurus\n",
            "Itrwpbolophus\n",
            "Mecakosaurus\n",
            "Ytrodon\n",
            "Eiaeptod\n",
            "Trterbosaurus\n",
            "\n",
            "\n"
          ],
          "name": "stdout"
        }
      ]
    },
    {
      "cell_type": "markdown",
      "metadata": {
        "id": "GF_rt9x7Ytph"
      },
      "source": [
        "https://datascience-enthusiast.com/DL/Dinosaurus_Island_Character_level_language_model.html\n",
        "\n",
        "https://github.com/Kulbear/deep-learning-coursera/blob/master/Sequence%20Models/Dinosaurus%20Island%20--%20Character%20level%20language%20model%20final%20-%20v3.ipynb"
      ]
    },
    {
      "cell_type": "code",
      "metadata": {
        "id": "73UX6W3wqaVe"
      },
      "source": [
        ""
      ],
      "execution_count": null,
      "outputs": []
    }
  ]
}